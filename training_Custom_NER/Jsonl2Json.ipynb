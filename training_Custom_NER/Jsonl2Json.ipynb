{
 "cells": [
  {
   "cell_type": "code",
   "execution_count": 1,
   "id": "d2d6f080",
   "metadata": {},
   "outputs": [],
   "source": [
    "import json\n",
    "\n",
    "def read_jsonl_file(file_path):\n",
    "    data_list = []\n",
    "    with open(file_path, 'r', encoding='utf-8') as file:\n",
    "        for line in file:\n",
    "            # Load the JSON object from the current line\n",
    "            data = json.loads(line.strip())\n",
    "            data_list.append(data)\n",
    "    return data_list\n",
    "\n",
    "def write_to_json_file(data, output_file_path):\n",
    "    with open(output_file_path, 'w', encoding='utf-8') as output_file:\n",
    "        # Use json.dump() to write the combined data to the output file\n",
    "        json.dump(data, output_file, indent=4)\n",
    "\n",
    "# Example usage:\n",
    "jsonl_file_path = 'Annotated_with_(education,phone,place).jsonl'\n",
    "json_data = read_jsonl_file(jsonl_file_path)\n",
    "\n",
    "# Now 'json_data' is a list containing all the JSON objects from the JSONL file.\n",
    "# If you want to combine them into a single JSON object, you can do something like this:\n",
    "# combined_data = {\"data\": json_data}\n",
    "\n",
    "output_json_file_path = 'Annotated_with_(education,phone,place).json'\n",
    "write_to_json_file(json_data, output_json_file_path)\n"
   ]
  }
 ],
 "metadata": {
  "kernelspec": {
   "display_name": "Python 3 (ipykernel)",
   "language": "python",
   "name": "python3"
  },
  "language_info": {
   "codemirror_mode": {
    "name": "ipython",
    "version": 3
   },
   "file_extension": ".py",
   "mimetype": "text/x-python",
   "name": "python",
   "nbconvert_exporter": "python",
   "pygments_lexer": "ipython3",
   "version": "3.9.13"
  }
 },
 "nbformat": 4,
 "nbformat_minor": 5
}
